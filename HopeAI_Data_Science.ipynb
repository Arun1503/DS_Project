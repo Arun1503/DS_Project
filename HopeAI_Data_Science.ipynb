{
 "cells": [
  {
   "cell_type": "markdown",
   "id": "370e3b9f",
   "metadata": {},
   "source": [
    "# Importing the libraries"
   ]
  },
  {
   "cell_type": "code",
   "execution_count": 1,
   "id": "2249aa49",
   "metadata": {},
   "outputs": [],
   "source": [
    "import pandas as pd\n",
    "import numpy as np\n",
    "import matplotlib.pyplot as plt\n",
    "import seaborn as sns\n",
    "\n"
   ]
  },
  {
   "cell_type": "markdown",
   "id": "0d1f0225",
   "metadata": {},
   "source": [
    "# Importing the dataset"
   ]
  },
  {
   "cell_type": "code",
   "execution_count": 2,
   "id": "701aa859",
   "metadata": {},
   "outputs": [
    {
     "data": {
      "text/html": [
       "<div>\n",
       "<style scoped>\n",
       "    .dataframe tbody tr th:only-of-type {\n",
       "        vertical-align: middle;\n",
       "    }\n",
       "\n",
       "    .dataframe tbody tr th {\n",
       "        vertical-align: top;\n",
       "    }\n",
       "\n",
       "    .dataframe thead th {\n",
       "        text-align: right;\n",
       "    }\n",
       "</style>\n",
       "<table border=\"1\" class=\"dataframe\">\n",
       "  <thead>\n",
       "    <tr style=\"text-align: right;\">\n",
       "      <th></th>\n",
       "      <th>Date</th>\n",
       "      <th>Customer Name</th>\n",
       "      <th>Marketing Staff</th>\n",
       "      <th>Grade Of Concrete</th>\n",
       "      <th>QTY</th>\n",
       "      <th>PRICE PER CUM</th>\n",
       "    </tr>\n",
       "  </thead>\n",
       "  <tbody>\n",
       "    <tr>\n",
       "      <th>0</th>\n",
       "      <td>01-02-2022</td>\n",
       "      <td>CASA GRANDE COIMBATORE LLP</td>\n",
       "      <td>A01</td>\n",
       "      <td>M-25</td>\n",
       "      <td>7.5</td>\n",
       "      <td>5100.0</td>\n",
       "    </tr>\n",
       "    <tr>\n",
       "      <th>1</th>\n",
       "      <td>01-02-2022</td>\n",
       "      <td>S.S. CONSTRUCTION</td>\n",
       "      <td>M01</td>\n",
       "      <td>M-10</td>\n",
       "      <td>6.0</td>\n",
       "      <td>3100.0</td>\n",
       "    </tr>\n",
       "    <tr>\n",
       "      <th>2</th>\n",
       "      <td>01-02-2022</td>\n",
       "      <td>SREE DAKSHA INFRASTRUCTURE</td>\n",
       "      <td>A01</td>\n",
       "      <td>M-20</td>\n",
       "      <td>14.0</td>\n",
       "      <td>4300.0</td>\n",
       "    </tr>\n",
       "    <tr>\n",
       "      <th>3</th>\n",
       "      <td>01-02-2022</td>\n",
       "      <td>SREE DAKSHA INNOVATIONS</td>\n",
       "      <td>A01</td>\n",
       "      <td>M-10</td>\n",
       "      <td>78.0</td>\n",
       "      <td>3250.0</td>\n",
       "    </tr>\n",
       "    <tr>\n",
       "      <th>4</th>\n",
       "      <td>01-02-2022</td>\n",
       "      <td>AARNAA PROPERTY DEVELOPERS</td>\n",
       "      <td>A01</td>\n",
       "      <td>M-20</td>\n",
       "      <td>8.0</td>\n",
       "      <td>4300.0</td>\n",
       "    </tr>\n",
       "    <tr>\n",
       "      <th>...</th>\n",
       "      <td>...</td>\n",
       "      <td>...</td>\n",
       "      <td>...</td>\n",
       "      <td>...</td>\n",
       "      <td>...</td>\n",
       "      <td>...</td>\n",
       "    </tr>\n",
       "    <tr>\n",
       "      <th>283</th>\n",
       "      <td>NaN</td>\n",
       "      <td>NaN</td>\n",
       "      <td>NaN</td>\n",
       "      <td>NaN</td>\n",
       "      <td>NaN</td>\n",
       "      <td>NaN</td>\n",
       "    </tr>\n",
       "    <tr>\n",
       "      <th>284</th>\n",
       "      <td>NaN</td>\n",
       "      <td>NaN</td>\n",
       "      <td>NaN</td>\n",
       "      <td>NaN</td>\n",
       "      <td>NaN</td>\n",
       "      <td>NaN</td>\n",
       "    </tr>\n",
       "    <tr>\n",
       "      <th>285</th>\n",
       "      <td>NaN</td>\n",
       "      <td>NaN</td>\n",
       "      <td>NaN</td>\n",
       "      <td>NaN</td>\n",
       "      <td>NaN</td>\n",
       "      <td>NaN</td>\n",
       "    </tr>\n",
       "    <tr>\n",
       "      <th>286</th>\n",
       "      <td>NaN</td>\n",
       "      <td>NaN</td>\n",
       "      <td>NaN</td>\n",
       "      <td>NaN</td>\n",
       "      <td>NaN</td>\n",
       "      <td>NaN</td>\n",
       "    </tr>\n",
       "    <tr>\n",
       "      <th>287</th>\n",
       "      <td>NaN</td>\n",
       "      <td>NaN</td>\n",
       "      <td>NaN</td>\n",
       "      <td>NaN</td>\n",
       "      <td>NaN</td>\n",
       "      <td>33.0</td>\n",
       "    </tr>\n",
       "  </tbody>\n",
       "</table>\n",
       "<p>288 rows × 6 columns</p>\n",
       "</div>"
      ],
      "text/plain": [
       "           Date               Customer Name Marketing Staff Grade Of Concrete  \\\n",
       "0    01-02-2022  CASA GRANDE COIMBATORE LLP             A01              M-25   \n",
       "1    01-02-2022           S.S. CONSTRUCTION             M01              M-10   \n",
       "2    01-02-2022  SREE DAKSHA INFRASTRUCTURE             A01              M-20   \n",
       "3    01-02-2022     SREE DAKSHA INNOVATIONS             A01              M-10   \n",
       "4    01-02-2022  AARNAA PROPERTY DEVELOPERS             A01              M-20   \n",
       "..          ...                         ...             ...               ...   \n",
       "283         NaN                         NaN             NaN               NaN   \n",
       "284         NaN                         NaN             NaN               NaN   \n",
       "285         NaN                         NaN             NaN               NaN   \n",
       "286         NaN                         NaN             NaN               NaN   \n",
       "287         NaN                         NaN             NaN               NaN   \n",
       "\n",
       "      QTY  PRICE PER CUM  \n",
       "0     7.5         5100.0  \n",
       "1     6.0         3100.0  \n",
       "2    14.0         4300.0  \n",
       "3    78.0         3250.0  \n",
       "4     8.0         4300.0  \n",
       "..    ...            ...  \n",
       "283   NaN            NaN  \n",
       "284   NaN            NaN  \n",
       "285   NaN            NaN  \n",
       "286   NaN            NaN  \n",
       "287   NaN           33.0  \n",
       "\n",
       "[288 rows x 6 columns]"
      ]
     },
     "execution_count": 2,
     "metadata": {},
     "output_type": "execute_result"
    }
   ],
   "source": [
    "raw_df = pd.read_csv('RMC.csv')\n",
    "raw_df\n"
   ]
  },
  {
   "cell_type": "code",
   "execution_count": 49,
   "id": "c5b08635",
   "metadata": {},
   "outputs": [
    {
     "data": {
      "text/html": [
       "<div>\n",
       "<style scoped>\n",
       "    .dataframe tbody tr th:only-of-type {\n",
       "        vertical-align: middle;\n",
       "    }\n",
       "\n",
       "    .dataframe tbody tr th {\n",
       "        vertical-align: top;\n",
       "    }\n",
       "\n",
       "    .dataframe thead th {\n",
       "        text-align: right;\n",
       "    }\n",
       "</style>\n",
       "<table border=\"1\" class=\"dataframe\">\n",
       "  <thead>\n",
       "    <tr style=\"text-align: right;\">\n",
       "      <th></th>\n",
       "      <th>Date</th>\n",
       "      <th>Customer Name</th>\n",
       "      <th>Marketing Staff</th>\n",
       "      <th>Grade Of Concrete</th>\n",
       "      <th>QTY</th>\n",
       "      <th>PRICE PER CUM</th>\n",
       "    </tr>\n",
       "  </thead>\n",
       "  <tbody>\n",
       "    <tr>\n",
       "      <th>0</th>\n",
       "      <td>01-02-2022</td>\n",
       "      <td>CASA GRANDE COIMBATORE LLP</td>\n",
       "      <td>A01</td>\n",
       "      <td>M-25</td>\n",
       "      <td>7.5</td>\n",
       "      <td>5100.0</td>\n",
       "    </tr>\n",
       "    <tr>\n",
       "      <th>1</th>\n",
       "      <td>01-02-2022</td>\n",
       "      <td>S.S. CONSTRUCTION</td>\n",
       "      <td>M01</td>\n",
       "      <td>M-10</td>\n",
       "      <td>6.0</td>\n",
       "      <td>3100.0</td>\n",
       "    </tr>\n",
       "    <tr>\n",
       "      <th>2</th>\n",
       "      <td>01-02-2022</td>\n",
       "      <td>SREE DAKSHA INFRASTRUCTURE</td>\n",
       "      <td>A01</td>\n",
       "      <td>M-20</td>\n",
       "      <td>14.0</td>\n",
       "      <td>4300.0</td>\n",
       "    </tr>\n",
       "    <tr>\n",
       "      <th>3</th>\n",
       "      <td>01-02-2022</td>\n",
       "      <td>SREE DAKSHA INNOVATIONS</td>\n",
       "      <td>A01</td>\n",
       "      <td>M-10</td>\n",
       "      <td>78.0</td>\n",
       "      <td>3250.0</td>\n",
       "    </tr>\n",
       "    <tr>\n",
       "      <th>4</th>\n",
       "      <td>01-02-2022</td>\n",
       "      <td>AARNAA PROPERTY DEVELOPERS</td>\n",
       "      <td>A01</td>\n",
       "      <td>M-20</td>\n",
       "      <td>8.0</td>\n",
       "      <td>4300.0</td>\n",
       "    </tr>\n",
       "    <tr>\n",
       "      <th>...</th>\n",
       "      <td>...</td>\n",
       "      <td>...</td>\n",
       "      <td>...</td>\n",
       "      <td>...</td>\n",
       "      <td>...</td>\n",
       "      <td>...</td>\n",
       "    </tr>\n",
       "    <tr>\n",
       "      <th>195</th>\n",
       "      <td>28-02-2022</td>\n",
       "      <td>K.CHINNU &amp; COMPANY CONSTRUCTIONS PRIVATE LIMITED</td>\n",
       "      <td>R01</td>\n",
       "      <td>M-15</td>\n",
       "      <td>69.0</td>\n",
       "      <td>3750.0</td>\n",
       "    </tr>\n",
       "    <tr>\n",
       "      <th>196</th>\n",
       "      <td>28-02-2022</td>\n",
       "      <td>CASA GRANDE COIMBATORE LLP</td>\n",
       "      <td>A01</td>\n",
       "      <td>M-25</td>\n",
       "      <td>47.5</td>\n",
       "      <td>5100.0</td>\n",
       "    </tr>\n",
       "    <tr>\n",
       "      <th>197</th>\n",
       "      <td>28-02-2022</td>\n",
       "      <td>SREE DAKSHA INFRASTRUCTURE</td>\n",
       "      <td>A01</td>\n",
       "      <td>M-20</td>\n",
       "      <td>54.0</td>\n",
       "      <td>4300.0</td>\n",
       "    </tr>\n",
       "    <tr>\n",
       "      <th>198</th>\n",
       "      <td>28-02-2022</td>\n",
       "      <td>G RAMAMOORTHI CONSTRUCTIONS INDIA   PVT LTD</td>\n",
       "      <td>A01</td>\n",
       "      <td>M-15</td>\n",
       "      <td>3.0</td>\n",
       "      <td>4550.0</td>\n",
       "    </tr>\n",
       "    <tr>\n",
       "      <th>199</th>\n",
       "      <td>28-02-2022</td>\n",
       "      <td>SREE DAKSHA LAND SHAPERS</td>\n",
       "      <td>A01</td>\n",
       "      <td>M-20</td>\n",
       "      <td>6.0</td>\n",
       "      <td>4300.0</td>\n",
       "    </tr>\n",
       "  </tbody>\n",
       "</table>\n",
       "<p>200 rows × 6 columns</p>\n",
       "</div>"
      ],
      "text/plain": [
       "           Date                                     Customer Name  \\\n",
       "0    01-02-2022                        CASA GRANDE COIMBATORE LLP   \n",
       "1    01-02-2022                                 S.S. CONSTRUCTION   \n",
       "2    01-02-2022                        SREE DAKSHA INFRASTRUCTURE   \n",
       "3    01-02-2022                           SREE DAKSHA INNOVATIONS   \n",
       "4    01-02-2022                        AARNAA PROPERTY DEVELOPERS   \n",
       "..          ...                                               ...   \n",
       "195  28-02-2022  K.CHINNU & COMPANY CONSTRUCTIONS PRIVATE LIMITED   \n",
       "196  28-02-2022                        CASA GRANDE COIMBATORE LLP   \n",
       "197  28-02-2022                        SREE DAKSHA INFRASTRUCTURE   \n",
       "198  28-02-2022       G RAMAMOORTHI CONSTRUCTIONS INDIA   PVT LTD   \n",
       "199  28-02-2022                          SREE DAKSHA LAND SHAPERS   \n",
       "\n",
       "    Marketing Staff Grade Of Concrete   QTY  PRICE PER CUM  \n",
       "0               A01              M-25   7.5         5100.0  \n",
       "1               M01              M-10   6.0         3100.0  \n",
       "2               A01              M-20  14.0         4300.0  \n",
       "3               A01              M-10  78.0         3250.0  \n",
       "4               A01              M-20   8.0         4300.0  \n",
       "..              ...               ...   ...            ...  \n",
       "195             R01              M-15  69.0         3750.0  \n",
       "196             A01              M-25  47.5         5100.0  \n",
       "197             A01              M-20  54.0         4300.0  \n",
       "198             A01              M-15   3.0         4550.0  \n",
       "199             A01              M-20   6.0         4300.0  \n",
       "\n",
       "[200 rows x 6 columns]"
      ]
     },
     "execution_count": 49,
     "metadata": {},
     "output_type": "execute_result"
    }
   ],
   "source": [
    "raw_df.dropna()"
   ]
  },
  {
   "cell_type": "markdown",
   "id": "a1e15b67",
   "metadata": {},
   "source": [
    "# Display the dataset"
   ]
  },
  {
   "cell_type": "code",
   "execution_count": 50,
   "id": "eb08f80a",
   "metadata": {},
   "outputs": [
    {
     "data": {
      "text/html": [
       "<div>\n",
       "<style scoped>\n",
       "    .dataframe tbody tr th:only-of-type {\n",
       "        vertical-align: middle;\n",
       "    }\n",
       "\n",
       "    .dataframe tbody tr th {\n",
       "        vertical-align: top;\n",
       "    }\n",
       "\n",
       "    .dataframe thead th {\n",
       "        text-align: right;\n",
       "    }\n",
       "</style>\n",
       "<table border=\"1\" class=\"dataframe\">\n",
       "  <thead>\n",
       "    <tr style=\"text-align: right;\">\n",
       "      <th></th>\n",
       "      <th>QTY</th>\n",
       "      <th>PRICE PER CUM</th>\n",
       "    </tr>\n",
       "  </thead>\n",
       "  <tbody>\n",
       "    <tr>\n",
       "      <th>count</th>\n",
       "      <td>200.000000</td>\n",
       "      <td>201.000000</td>\n",
       "    </tr>\n",
       "    <tr>\n",
       "      <th>mean</th>\n",
       "      <td>20.405000</td>\n",
       "      <td>3895.800995</td>\n",
       "    </tr>\n",
       "    <tr>\n",
       "      <th>std</th>\n",
       "      <td>32.283854</td>\n",
       "      <td>824.907068</td>\n",
       "    </tr>\n",
       "    <tr>\n",
       "      <th>min</th>\n",
       "      <td>1.500000</td>\n",
       "      <td>33.000000</td>\n",
       "    </tr>\n",
       "    <tr>\n",
       "      <th>25%</th>\n",
       "      <td>5.000000</td>\n",
       "      <td>3250.000000</td>\n",
       "    </tr>\n",
       "    <tr>\n",
       "      <th>50%</th>\n",
       "      <td>8.000000</td>\n",
       "      <td>4100.000000</td>\n",
       "    </tr>\n",
       "    <tr>\n",
       "      <th>75%</th>\n",
       "      <td>18.625000</td>\n",
       "      <td>4300.000000</td>\n",
       "    </tr>\n",
       "    <tr>\n",
       "      <th>max</th>\n",
       "      <td>227.000000</td>\n",
       "      <td>5705.000000</td>\n",
       "    </tr>\n",
       "  </tbody>\n",
       "</table>\n",
       "</div>"
      ],
      "text/plain": [
       "              QTY  PRICE PER CUM\n",
       "count  200.000000     201.000000\n",
       "mean    20.405000    3895.800995\n",
       "std     32.283854     824.907068\n",
       "min      1.500000      33.000000\n",
       "25%      5.000000    3250.000000\n",
       "50%      8.000000    4100.000000\n",
       "75%     18.625000    4300.000000\n",
       "max    227.000000    5705.000000"
      ]
     },
     "execution_count": 50,
     "metadata": {},
     "output_type": "execute_result"
    }
   ],
   "source": [
    "raw_df.describe()"
   ]
  },
  {
   "cell_type": "markdown",
   "id": "377b75a6",
   "metadata": {},
   "source": [
    "# 1.To count the customer order value"
   ]
  },
  {
   "cell_type": "code",
   "execution_count": 51,
   "id": "1afe197e",
   "metadata": {},
   "outputs": [
    {
     "name": "stderr",
     "output_type": "stream",
     "text": [
      "C:\\Users\\palan\\anaconda3\\lib\\site-packages\\seaborn\\_decorators.py:36: FutureWarning: Pass the following variables as keyword args: x, y. From version 0.12, the only valid positional argument will be `data`, and passing other arguments without an explicit keyword will result in an error or misinterpretation.\n",
      "  warnings.warn(\n"
     ]
    },
    {
     "data": {
      "image/png": "[encoded data removed]",
      "text/plain": [
       "<Figure size 720x360 with 1 Axes>"
      ]
     },
     "metadata": {
      "needs_background": "light"
     },
     "output_type": "display_data"
    }
   ],
   "source": [
    "data  = raw_df['Customer Name'].value_counts()\n",
    "data = data[:-1,]\n",
    "plt.figure(figsize=(10,5))\n",
    "sns.barplot(data.index, data.values, alpha=0.8)\n",
    "plt.title('Number of Customer Orders')\n",
    "plt.ylabel('Number of Occurrences', fontsize=12)\n",
    "plt.xlabel('Customer Name', fontsize=12)\n",
    "plt.show()"
   ]
  },
  {
   "cell_type": "markdown",
   "id": "c23f92d6",
   "metadata": {},
   "source": [
    "# 2. To count the Marketing Staff sales "
   ]
  },
  {
   "cell_type": "code",
   "execution_count": 52,
   "id": "1178621e",
   "metadata": {},
   "outputs": [
    {
     "data": {
      "image/png": "[encoded data removed]",
      "text/plain": [
       "<Figure size 432x288 with 1 Axes>"
      ]
     },
     "metadata": {
      "needs_background": "light"
     },
     "output_type": "display_data"
    }
   ],
   "source": [
    "raw_df['Marketing Staff'].value_counts().plot(kind='barh')\n",
    "plt.title('Number of Marketing Staff sales')\n",
    "plt.ylabel('Number of Occurrences', fontsize=12)\n",
    "plt.xlabel('Marketing Staff', fontsize=12)\n",
    "plt.show()"
   ]
  },
  {
   "cell_type": "markdown",
   "id": "3b9eae52",
   "metadata": {},
   "source": [
    "# 3.Gradewise Sales count"
   ]
  },
  {
   "cell_type": "code",
   "execution_count": 53,
   "id": "6c150be5",
   "metadata": {},
   "outputs": [
    {
     "data": {
      "image/png": "[encoded data removed]",
      "text/plain": [
       "<Figure size 432x288 with 1 Axes>"
      ]
     },
     "metadata": {
      "needs_background": "light"
     },
     "output_type": "display_data"
    }
   ],
   "source": [
    "raw_df['Grade Of Concrete'].value_counts().plot(kind='barh')\n",
    "plt.title('Gradewise Sales Count')\n",
    "plt.ylabel('Number of Occurrences', fontsize=12)\n",
    "plt.xlabel('Grade Of Concrete', fontsize=12)\n",
    "plt.show()"
   ]
  },
  {
   "cell_type": "markdown",
   "id": "f26a7cdd",
   "metadata": {},
   "source": [
    "# 4.Total Quantity"
   ]
  },
  {
   "cell_type": "code",
   "execution_count": 54,
   "id": "e943044c",
   "metadata": {},
   "outputs": [
    {
     "name": "stderr",
     "output_type": "stream",
     "text": [
      "C:\\Users\\palan\\anaconda3\\lib\\site-packages\\seaborn\\_decorators.py:36: FutureWarning: Pass the following variables as keyword args: x, y. From version 0.12, the only valid positional argument will be `data`, and passing other arguments without an explicit keyword will result in an error or misinterpretation.\n",
      "  warnings.warn(\n"
     ]
    },
    {
     "data": {
      "image/png": "[encoded data removed]",
      "text/plain": [
       "<Figure size 720x360 with 1 Axes>"
      ]
     },
     "metadata": {
      "needs_background": "light"
     },
     "output_type": "display_data"
    }
   ],
   "source": [
    "data  = raw_df['QTY'].value_counts()\n",
    "data = data[:,]\n",
    "plt.figure(figsize=(10,5))\n",
    "sns.barplot(data.index, data.values)\n",
    "plt.title('Total Quantity')\n",
    "plt.ylabel('Number of Occurrences', fontsize=12)\n",
    "plt.xlabel('Quantity', fontsize=12)\n",
    "plt.show()"
   ]
  },
  {
   "cell_type": "markdown",
   "id": "61a53858",
   "metadata": {},
   "source": [
    "# 5.Daywise total quantity"
   ]
  },
  {
   "cell_type": "code",
   "execution_count": 55,
   "id": "ec7244ed",
   "metadata": {},
   "outputs": [
    {
     "name": "stderr",
     "output_type": "stream",
     "text": [
      "C:\\Users\\palan\\anaconda3\\lib\\site-packages\\seaborn\\_decorators.py:36: FutureWarning: Pass the following variables as keyword args: x, y. From version 0.12, the only valid positional argument will be `data`, and passing other arguments without an explicit keyword will result in an error or misinterpretation.\n",
      "  warnings.warn(\n"
     ]
    },
    {
     "data": {
      "image/png": "[encoded data removed]",
      "text/plain": [
       "<Figure size 720x360 with 1 Axes>"
      ]
     },
     "metadata": {
      "needs_background": "light"
     },
     "output_type": "display_data"
    }
   ],
   "source": [
    "data=raw_df.groupby('Date')['QTY'].sum()\n",
    "data = data[:,]\n",
    "plt.figure(figsize=(10,5))\n",
    "sns.lineplot(data.index, data.values)\n",
    "plt.title('Daywise Quantity')\n",
    "plt.ylabel('Number of Occurrences', fontsize=12)\n",
    "plt.xlabel('Date', fontsize=12)\n",
    "plt.show()\n",
    "    \n"
   ]
  },
  {
   "cell_type": "markdown",
   "id": "4a3b5d11",
   "metadata": {},
   "source": [
    "# 6. Performing descriptive analysis"
   ]
  },
  {
   "cell_type": "code",
   "execution_count": 56,
   "id": "222a298d",
   "metadata": {},
   "outputs": [
    {
     "data": {
      "text/plain": [
       "QTY                20.405000\n",
       "PRICE PER CUM    3895.800995\n",
       "dtype: float64"
      ]
     },
     "execution_count": 56,
     "metadata": {},
     "output_type": "execute_result"
    }
   ],
   "source": [
    "raw_df[['QTY','PRICE PER CUM']].mean() ##mean for Quantity and price per cum"
   ]
  },
  {
   "cell_type": "code",
   "execution_count": 57,
   "id": "bc04b400",
   "metadata": {},
   "outputs": [
    {
     "data": {
      "text/plain": [
       "QTY                 8.0\n",
       "PRICE PER CUM    4100.0\n",
       "dtype: float64"
      ]
     },
     "execution_count": 57,
     "metadata": {},
     "output_type": "execute_result"
    }
   ],
   "source": [
    "raw_df[['QTY','PRICE PER CUM']].median() ## median for quantity and price per cum"
   ]
  },
  {
   "cell_type": "code",
   "execution_count": 58,
   "id": "92d91ad2",
   "metadata": {},
   "outputs": [
    {
     "data": {
      "text/html": [
       "<div>\n",
       "<style scoped>\n",
       "    .dataframe tbody tr th:only-of-type {\n",
       "        vertical-align: middle;\n",
       "    }\n",
       "\n",
       "    .dataframe tbody tr th {\n",
       "        vertical-align: top;\n",
       "    }\n",
       "\n",
       "    .dataframe thead th {\n",
       "        text-align: right;\n",
       "    }\n",
       "</style>\n",
       "<table border=\"1\" class=\"dataframe\">\n",
       "  <thead>\n",
       "    <tr style=\"text-align: right;\">\n",
       "      <th></th>\n",
       "      <th>QTY</th>\n",
       "      <th>PRICE PER CUM</th>\n",
       "    </tr>\n",
       "  </thead>\n",
       "  <tbody>\n",
       "    <tr>\n",
       "      <th>0</th>\n",
       "      <td>4.0</td>\n",
       "      <td>4300.0</td>\n",
       "    </tr>\n",
       "  </tbody>\n",
       "</table>\n",
       "</div>"
      ],
      "text/plain": [
       "   QTY  PRICE PER CUM\n",
       "0  4.0         4300.0"
      ]
     },
     "execution_count": 58,
     "metadata": {},
     "output_type": "execute_result"
    }
   ],
   "source": [
    "raw_df[['QTY','PRICE PER CUM']].mode() ## mode for quantity and price per cum"
   ]
  },
  {
   "cell_type": "code",
   "execution_count": 59,
   "id": "fda635b4",
   "metadata": {},
   "outputs": [
    {
     "name": "stdout",
     "output_type": "stream",
     "text": [
      "QTY               32.283854\n",
      "PRICE PER CUM    824.907068\n",
      "dtype: float64\n"
     ]
    }
   ],
   "source": [
    "standard_deviation=raw_df[['QTY','PRICE PER CUM']].std() ## standard deviation for quntity and price per cum\n",
    "print(standard_deviation)"
   ]
  },
  {
   "cell_type": "code",
   "execution_count": 60,
   "id": "ea93c2f1",
   "metadata": {},
   "outputs": [
    {
     "name": "stdout",
     "output_type": "stream",
     "text": [
      "QTY                1042.247211\n",
      "PRICE PER CUM    680471.670199\n",
      "dtype: float64\n"
     ]
    }
   ],
   "source": [
    "variance=(standard_deviation**2) ## variance for quantity and price per cum\n",
    "print(variance)"
   ]
  },
  {
   "cell_type": "code",
   "execution_count": 61,
   "id": "529e5dad",
   "metadata": {},
   "outputs": [
    {
     "name": "stdout",
     "output_type": "stream",
     "text": [
      "QTY              3.597526\n",
      "PRICE PER CUM   -0.329815\n",
      "dtype: float64\n"
     ]
    },
    {
     "name": "stderr",
     "output_type": "stream",
     "text": [
      "C:\\Users\\palan\\AppData\\Local\\Temp/ipykernel_18596/2515457258.py:1: FutureWarning: Dropping of nuisance columns in DataFrame reductions (with 'numeric_only=None') is deprecated; in a future version this will raise TypeError.  Select only valid columns before calling the reduction.\n",
      "  print(raw_df.skew()) ## skewness is analyzed\n"
     ]
    }
   ],
   "source": [
    "print(raw_df.skew()) ## skewness is analyzed"
   ]
  },
  {
   "cell_type": "code",
   "execution_count": 62,
   "id": "90afe490",
   "metadata": {},
   "outputs": [
    {
     "data": {
      "text/plain": [
       "nan"
      ]
     },
     "execution_count": 62,
     "metadata": {},
     "output_type": "execute_result"
    }
   ],
   "source": [
    "from scipy.stats import iqr   ##INTER QUARTILE RANGE\n",
    "iqr(raw_df['PRICE PER CUM'])"
   ]
  },
  {
   "cell_type": "markdown",
   "id": "b0e9e4cc",
   "metadata": {},
   "source": [
    "# 7.Performing Inferential Analysis"
   ]
  },
  {
   "cell_type": "code",
   "execution_count": 63,
   "id": "1425d7c0",
   "metadata": {},
   "outputs": [
    {
     "name": "stdout",
     "output_type": "stream",
     "text": [
      "                       QTY  PRICE PER CUM\n",
      "QTY            1042.247211    3535.915503\n",
      "PRICE PER CUM  3535.915503  680471.670199\n"
     ]
    }
   ],
   "source": [
    "print(raw_df.cov()) ##covariance"
   ]
  },
  {
   "cell_type": "code",
   "execution_count": 64,
   "id": "68518233",
   "metadata": {},
   "outputs": [
    {
     "name": "stdout",
     "output_type": "stream",
     "text": [
      "                    QTY  PRICE PER CUM\n",
      "QTY            1.000000       0.140402\n",
      "PRICE PER CUM  0.140402       1.000000\n"
     ]
    }
   ],
   "source": [
    "print(raw_df.corr()) ## correlation"
   ]
  },
  {
   "cell_type": "code",
   "execution_count": 21,
   "id": "18444fac",
   "metadata": {},
   "outputs": [
    {
     "data": {
      "image/png": "[encoded data removed]",
      "text/plain": [
       "<Figure size 432x288 with 1 Axes>"
      ]
     },
     "metadata": {
      "needs_background": "light"
     },
     "output_type": "display_data"
    }
   ],
   "source": [
    "plt.hist(raw_df['QTY'])   ##histogram plotting\n",
    "plt.show()"
   ]
  },
  {
   "cell_type": "code",
   "execution_count": 23,
   "id": "d3495d94",
   "metadata": {},
   "outputs": [
    {
     "data": {
      "image/png": "[encoded data removed]",
      "text/plain": [
       "<Figure size 432x288 with 1 Axes>"
      ]
     },
     "metadata": {
      "needs_background": "light"
     },
     "output_type": "display_data"
    }
   ],
   "source": [
    "data=raw_df['PRICE PER CUM']                          ## Probability density function\n",
    "axis=sns.distplot(raw_df['PRICE PER CUM'],kde=True)"
   ]
  },
  {
   "cell_type": "code",
   "execution_count": 28,
   "id": "392f5ffd",
   "metadata": {},
   "outputs": [
    {
     "data": {
      "text/plain": [
       "(array([0.00497512, 0.00497512, 0.00497512, 0.00497512, 0.00497512,\n",
       "        0.00497512, 0.00497512, 0.00497512, 0.00497512, 0.00497512,\n",
       "        0.00497512, 0.00497512, 0.00497512, 0.00497512, 0.00497512,\n",
       "        0.00497512, 0.00497512, 0.00497512, 0.00497512, 0.00497512,\n",
       "        0.00497512, 0.00497512, 0.00497512, 0.00497512, 0.00497512,\n",
       "        0.00497512, 0.00497512, 0.00497512, 0.00497512, 0.00497512,\n",
       "        0.00497512, 0.00497512, 0.00497512, 0.00497512, 0.00497512,\n",
       "        0.00497512, 0.00497512, 0.00497512, 0.00497512, 0.00497512,\n",
       "        0.00497512, 0.00497512, 0.039801  , 0.039801  , 0.039801  ,\n",
       "        0.039801  , 0.08457711, 0.08457711, 0.08457711, 0.09950249,\n",
       "        0.09950249, 0.09950249, 0.09950249, 0.09950249, 0.13432836,\n",
       "        0.16915423, 0.33830846, 0.3681592 , 0.37313433, 0.39800995,\n",
       "        0.39800995, 0.39800995, 0.40298507, 0.40298507, 0.40298507,\n",
       "        0.41293532, 0.41293532, 0.41293532, 0.41293532, 0.45273632,\n",
       "        0.45771144, 0.55721393, 0.56218905, 0.58208955, 0.5920398 ,\n",
       "        0.82089552, 0.82089552, 0.82587065, 0.82587065, 0.84079602,\n",
       "        0.85572139, 0.85572139, 0.87064677, 0.87064677, 0.89552239,\n",
       "        0.89552239, 0.89552239, 0.91044776, 0.91044776, 0.94527363,\n",
       "        0.94527363, 0.94527363, 0.94527363, 0.95522388, 0.95522388,\n",
       "        0.95522388, 0.95522388, 0.95522388, 0.99502488, 1.        ]),\n",
       " array([  33.  ,   89.72,  146.44,  203.16,  259.88,  316.6 ,  373.32,\n",
       "         430.04,  486.76,  543.48,  600.2 ,  656.92,  713.64,  770.36,\n",
       "         827.08,  883.8 ,  940.52,  997.24, 1053.96, 1110.68, 1167.4 ,\n",
       "        1224.12, 1280.84, 1337.56, 1394.28, 1451.  , 1507.72, 1564.44,\n",
       "        1621.16, 1677.88, 1734.6 , 1791.32, 1848.04, 1904.76, 1961.48,\n",
       "        2018.2 , 2074.92, 2131.64, 2188.36, 2245.08, 2301.8 , 2358.52,\n",
       "        2415.24, 2471.96, 2528.68, 2585.4 , 2642.12, 2698.84, 2755.56,\n",
       "        2812.28, 2869.  , 2925.72, 2982.44, 3039.16, 3095.88, 3152.6 ,\n",
       "        3209.32, 3266.04, 3322.76, 3379.48, 3436.2 , 3492.92, 3549.64,\n",
       "        3606.36, 3663.08, 3719.8 , 3776.52, 3833.24, 3889.96, 3946.68,\n",
       "        4003.4 , 4060.12, 4116.84, 4173.56, 4230.28, 4287.  , 4343.72,\n",
       "        4400.44, 4457.16, 4513.88, 4570.6 , 4627.32, 4684.04, 4740.76,\n",
       "        4797.48, 4854.2 , 4910.92, 4967.64, 5024.36, 5081.08, 5137.8 ,\n",
       "        5194.52, 5251.24, 5307.96, 5364.68, 5421.4 , 5478.12, 5534.84,\n",
       "        5591.56, 5648.28, 5705.  ]),\n",
       " <BarContainer object of 100 artists>)"
      ]
     },
     "execution_count": 28,
     "metadata": {},
     "output_type": "execute_result"
    },
    {
     "data": {
      "image/png": "[encoded data removed]",
      "text/plain": [
       "<Figure size 432x288 with 1 Axes>"
      ]
     },
     "metadata": {
      "needs_background": "light"
     },
     "output_type": "display_data"
    }
   ],
   "source": [
    "data=raw_df['PRICE PER CUM'] ##CUMULATIVE DISTRIBUTION FUNCTION\n",
    "plt.hist(data,cumulative=True,density=True,bins=100)"
   ]
  },
  {
   "cell_type": "markdown",
   "id": "2e2d5553",
   "metadata": {},
   "source": [
    "# Applying Z-Test"
   ]
  },
  {
   "cell_type": "code",
   "execution_count": 38,
   "id": "c0c6b519",
   "metadata": {},
   "outputs": [
    {
     "name": "stderr",
     "output_type": "stream",
     "text": [
      "C:\\Users\\palan\\anaconda3\\lib\\site-packages\\seaborn\\distributions.py:2619: FutureWarning: `distplot` is a deprecated function and will be removed in a future version. Please adapt your code to use either `displot` (a figure-level function with similar flexibility) or `histplot` (an axes-level function for histograms).\n",
      "  warnings.warn(msg, FutureWarning)\n"
     ]
    },
    {
     "data": {
      "text/plain": [
       "<AxesSubplot:ylabel='Density'>"
      ]
     },
     "execution_count": 38,
     "metadata": {},
     "output_type": "execute_result"
    },
    {
     "data": {
      "image/png": "[encoded data removed]",
      "text/plain": [
       "<Figure size 432x288 with 1 Axes>"
      ]
     },
     "metadata": {
      "needs_background": "light"
     },
     "output_type": "display_data"
    }
   ],
   "source": [
    "mean=raw_df['PRICE PER CUM'].mean()\n",
    "standard_deviation=raw_df['PRICE PER CUM'].std()\n",
    "value=[i for i in raw_df['PRICE PER CUM']]\n",
    "z_score=[((j-mean)/standard_deviation)for j in value]                   \n",
    "sns.distplot(z_score,kde=True)"
   ]
  },
  {
   "cell_type": "code",
   "execution_count": null,
   "id": "be825330",
   "metadata": {},
   "outputs": [],
   "source": []
  }
 ],
 "metadata": {
  "kernelspec": {
   "display_name": "Python 3 (ipykernel)",
   "language": "python",
   "name": "python3"
  },
  "language_info": {
   "codemirror_mode": {
    "name": "ipython",
    "version": 3
   },
   "file_extension": ".py",
   "mimetype": "text/x-python",
   "name": "python",
   "nbconvert_exporter": "python",
   "pygments_lexer": "ipython3",
   "version": "3.9.7"
  }
 },
 "nbformat": 4,
 "nbformat_minor": 5
}
